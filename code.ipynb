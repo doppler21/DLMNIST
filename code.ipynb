{
 "cells": [
  {
   "cell_type": "markdown",
   "metadata": {},
   "source": []
  },
  {
   "cell_type": "code",
   "execution_count": 1,
   "metadata": {
    "collapsed": true
   },
   "outputs": [],
   "source": [
    "import pandas as pd\n",
    "import numpy as np\n",
    "import matplotlib.pyplot as plt\n",
    "%matplotlib inline\n",
    "import seaborn as sns"
   ]
  },
  {
   "cell_type": "code",
   "execution_count": 2,
   "metadata": {
    "collapsed": true
   },
   "outputs": [],
   "source": [
    "#Load training data\n",
    "df= pd.read_csv(\"./train.csv\")\n",
    "Y= df[\"label\"]\n",
    "X= df.drop(\"label\",axis=1)"
   ]
  },
  {
   "cell_type": "code",
   "execution_count": 3,
   "metadata": {},
   "outputs": [
    {
     "name": "stderr",
     "output_type": "stream",
     "text": [
      "C:\\anaconda\\lib\\site-packages\\h5py\\__init__.py:34: FutureWarning: Conversion of the second argument of issubdtype from `float` to `np.floating` is deprecated. In future, it will be treated as `np.float64 == np.dtype(float).type`.\n",
      "  from ._conv import register_converters as _register_converters\n",
      "Using TensorFlow backend.\n"
     ]
    },
    {
     "data": {
      "text/plain": [
       "(42000, 10)"
      ]
     },
     "execution_count": 3,
     "metadata": {},
     "output_type": "execute_result"
    }
   ],
   "source": [
    "# One Hot Encoding for Y\n",
    "from keras.utils.np_utils import to_categorical\n",
    "Y_cat =to_categorical(Y)\n",
    "Y_cat.shape"
   ]
  },
  {
   "cell_type": "code",
   "execution_count": 4,
   "metadata": {},
   "outputs": [
    {
     "name": "stdout",
     "output_type": "stream",
     "text": [
      "1    4684\n",
      "7    4401\n",
      "3    4351\n",
      "9    4188\n",
      "2    4177\n",
      "6    4137\n",
      "0    4132\n",
      "4    4072\n",
      "8    4063\n",
      "5    3795\n",
      "Name: label, dtype: int64\n"
     ]
    },
    {
     "data": {
      "image/png": "[encoded data removed]",
      "text/plain": [
       "<matplotlib.figure.Figure at 0x174c5b3dda0>"
      ]
     },
     "metadata": {},
     "output_type": "display_data"
    }
   ],
   "source": [
    "# No. of digits\n",
    "sns.countplot(Y)\n",
    "print(Y.value_counts())"
   ]
  },
  {
   "cell_type": "code",
   "execution_count": 5,
   "metadata": {
    "collapsed": true
   },
   "outputs": [],
   "source": [
    "#>> Check for null value\n",
    "X.isnull().any().any()\n",
    "\n",
    "#>> Normaliztion\n",
    "# X values are ranging from 0 to 255    \n",
    "X.describe()\n",
    "X =X /255.0"
   ]
  },
  {
   "cell_type": "code",
   "execution_count": 6,
   "metadata": {},
   "outputs": [
    {
     "data": {
      "text/plain": [
       "(42000, 28, 28, 1)"
      ]
     },
     "execution_count": 6,
     "metadata": {},
     "output_type": "execute_result"
    }
   ],
   "source": [
    "#>> Reshaping Data\n",
    "# keras require a shape 4D tensor\n",
    "#[Batch Size, Height of Image, Width of Image, No. of Color Channels]\n",
    "\n",
    "X=X.values.reshape(-1,28,28,1)\n",
    "X.shape"
   ]
  },
  {
   "cell_type": "code",
   "execution_count": 8,
   "metadata": {
    "scrolled": true
   },
   "outputs": [
    {
     "data": {
      "text/plain": [
       "<matplotlib.image.AxesImage at 0x174c1b868d0>"
      ]
     },
     "execution_count": 8,
     "metadata": {},
     "output_type": "execute_result"
    },
    {
     "data": {
      "image/png": "[encoded data removed]",
      "text/plain": [
       "<matplotlib.figure.Figure at 0x1748fb52cc0>"
      ]
     },
     "metadata": {},
     "output_type": "display_data"
    }
   ],
   "source": [
    "# Change Value of num to plot Different Images\n",
    "num =4\n",
    "plt.imshow(X[num][:,:,0],cmap=\"gray\")"
   ]
  },
  {
   "cell_type": "code",
   "execution_count": 9,
   "metadata": {
    "collapsed": true
   },
   "outputs": [],
   "source": [
    "# Split the train and the validation set for the fitting\n",
    "from sklearn.model_selection import train_test_split\n",
    "\n",
    "X_train, X_val, Y_train, Y_val = train_test_split(X, Y_cat, test_size = 0.1)"
   ]
  },
  {
   "cell_type": "code",
   "execution_count": 10,
   "metadata": {
    "collapsed": true
   },
   "outputs": [],
   "source": [
    "# Importing model config\n",
    "from keras.models import Sequential\n",
    "from keras.layers import Dense, Dropout, Conv2D, MaxPool2D, Flatten\n",
    "from keras.optimizers import RMSprop"
   ]
  },
  {
   "cell_type": "code",
   "execution_count": 17,
   "metadata": {},
   "outputs": [
    {
     "name": "stdout",
     "output_type": "stream",
     "text": [
      "_________________________________________________________________\n",
      "Layer (type)                 Output Shape              Param #   \n",
      "=================================================================\n",
      "conv2d_9 (Conv2D)            (None, 28, 28, 32)        544       \n",
      "_________________________________________________________________\n",
      "conv2d_10 (Conv2D)           (None, 28, 28, 32)        16416     \n",
      "_________________________________________________________________\n",
      "max_pooling2d_5 (MaxPooling2 (None, 14, 14, 32)        0         \n",
      "_________________________________________________________________\n",
      "dropout_5 (Dropout)          (None, 14, 14, 32)        0         \n",
      "_________________________________________________________________\n",
      "conv2d_11 (Conv2D)           (None, 14, 14, 32)        9248      \n",
      "_________________________________________________________________\n",
      "conv2d_12 (Conv2D)           (None, 14, 14, 32)        9248      \n",
      "_________________________________________________________________\n",
      "max_pooling2d_6 (MaxPooling2 (None, 7, 7, 32)          0         \n",
      "_________________________________________________________________\n",
      "flatten_3 (Flatten)          (None, 1568)              0         \n",
      "_________________________________________________________________\n",
      "dense_5 (Dense)              (None, 256)               401664    \n",
      "_________________________________________________________________\n",
      "dropout_6 (Dropout)          (None, 256)               0         \n",
      "_________________________________________________________________\n",
      "dense_6 (Dense)              (None, 10)                2570      \n",
      "=================================================================\n",
      "Total params: 439,690\n",
      "Trainable params: 439,690\n",
      "Non-trainable params: 0\n",
      "_________________________________________________________________\n"
     ]
    }
   ],
   "source": [
    "model= Sequential()\n",
    "\n",
    "model.add(Conv2D(32,(4,4),padding=\"Same\",activation=\"relu\", input_shape=(28,28,1)  ))\n",
    "model.add(Conv2D(32, (4,4), padding=\"Same\", activation=\"relu\"))\n",
    "model.add(MaxPool2D())\n",
    "\n",
    "model.add(Dropout(0.2))\n",
    "model.add(Conv2D(32,(3,3),padding=\"Same\",activation=\"relu\" ))\n",
    "model.add(Conv2D(32, (3,3), padding=\"Same\", activation=\"relu\"))\n",
    "model.add(MaxPool2D(strides=(2,2)))\n",
    "\n",
    "model.add(Flatten())\n",
    "model.add(Dense(256, activation=\"relu\"))\n",
    "model.add(Dropout(0.4))\n",
    "model.add(Dense(10, activation=\"softmax\"))\n",
    "\n",
    "model.compile(RMSprop(lr=0.001),\"categorical_crossentropy\",metrics=[\"accuracy\"]   )\n",
    "model.summary()"
   ]
  },
  {
   "cell_type": "markdown",
   "metadata": {},
   "source": [
    "1) **1 \\* 32 \\* 16 (Weights) + 32(bias) = 544 learning parameters**                                 \n",
    "    Convolution layer => with 32 nodes/no. of filters; having size of (4\\*4) each; Input channel/nodes from previous is 1\n",
    "\n",
    "                                    \n",
    "2) **32 \\* 32 \\* 16 (Weights) + 32(bias) = 16416 learning parameters**                   \n",
    "    Convolution layer; with 32 nodes/no. of filters; having size of (4\\*4) each; Input channel/nodes from previous layer are 32\n",
    "             \n",
    "3) MaxPooling layer of size (2,2) it decreases height and width by 2. and it does not have any parameters for learning.\n",
    "\n",
    "4) **32 \\* 32 \\* 9 (Weights) + 32(bias) = 9248 learning parameters**                                 \n",
    "    Convolution layer => with 32 nodes/no. of filters; having size of (3\\*3) each; Input channel/nodes from previous is 32\n",
    "\n",
    "                                    \n",
    "5) **32 \\* 32 \\* 9 (Weights) + 32(bias) = 9248 learning parameters**                   \n",
    "    Convolution layer; with 32 nodes/no. of filters; having size of (3\\*3) each; Input channel/nodes from previous layer are 32\n",
    "             \n",
    "6) MaxPooling layer of size (2,2) it decreases height and width by 2. and it does not have any parameters for learning.\n",
    "\n",
    "7) Flatten, It reshape(-1) in a 1D , ** 7 \\* 7 \\* 32 **\n",
    "\n",
    "8) Dense, Fully Connected layer with 256 nodes, **1568 * 256 (Weights) + 256 bias =401664 learning parameters**\n",
    "\n",
    "9) Dropout layer with 40% units to prevent overfitting.\n",
    "\n",
    "10) Dense, Fully Connected layer with 10 nodes [0,1...,9] for output.\n",
    "\n"
   ]
  },
  {
   "cell_type": "code",
   "execution_count": 18,
   "metadata": {
    "collapsed": true
   },
   "outputs": [],
   "source": [
    "# Set a learning rate annealer\n",
    "from keras.callbacks import ReduceLROnPlateau, EarlyStopping\n",
    "lr_reduction= ReduceLROnPlateau(monitor='val_acc',factor=0.4, min_lr=0.00001,patience=1,verbose=1)"
   ]
  },
  {
   "cell_type": "code",
   "execution_count": 19,
   "metadata": {
    "scrolled": true
   },
   "outputs": [
    {
     "name": "stdout",
     "output_type": "stream",
     "text": [
      "Train on 34020 samples, validate on 3780 samples\n",
      "Epoch 1/15\n",
      "34020/34020 [==============================] - 38s 1ms/step - loss: 1.6049 - acc: 0.4092 - val_loss: 0.4160 - val_acc: 0.8733\n",
      "Epoch 2/15\n",
      "34020/34020 [==============================] - 37s 1ms/step - loss: 0.3036 - acc: 0.9035 - val_loss: 0.1286 - val_acc: 0.9611\n",
      "Epoch 3/15\n",
      "34020/34020 [==============================] - 37s 1ms/step - loss: 0.1501 - acc: 0.9538 - val_loss: 0.0938 - val_acc: 0.9701\n",
      "Epoch 4/15\n",
      "34020/34020 [==============================] - 37s 1ms/step - loss: 0.1073 - acc: 0.9666 - val_loss: 0.0791 - val_acc: 0.9767\n",
      "Epoch 5/15\n",
      "34020/34020 [==============================] - 37s 1ms/step - loss: 0.0879 - acc: 0.9728 - val_loss: 0.0689 - val_acc: 0.9812\n",
      "Epoch 6/15\n",
      "34020/34020 [==============================] - 37s 1ms/step - loss: 0.0742 - acc: 0.9772 - val_loss: 0.0597 - val_acc: 0.9825cc: 0.977 -  - ETA: 0s - loss: 0.0738 - acc:\n",
      "Epoch 7/15\n",
      "34020/34020 [==============================] - 37s 1ms/step - loss: 0.0633 - acc: 0.9805 - val_loss: 0.0638 - val_acc: 0.9812 3s - loss: 0.0633 - ETA: 2 - ETA: 0s - loss: 0.0631 - - ETA: 0s - loss: 0.0630 - acc: 0.98\n",
      "Epoch 8/15\n",
      "34020/34020 [==============================] - 37s 1ms/step - loss: 0.0577 - acc: 0.9818 - val_loss: 0.0553 - val_acc: 0.9860\n",
      "Epoch 9/15\n",
      "34020/34020 [==============================] - 37s 1ms/step - loss: 0.0502 - acc: 0.9845 - val_loss: 0.0582 - val_acc: 0.9849\n",
      "Epoch 10/15\n",
      "34020/34020 [==============================] - 37s 1ms/step - loss: 0.0463 - acc: 0.9852 - val_loss: 0.0491 - val_acc: 0.9860\n",
      "Epoch 11/15\n",
      "34020/34020 [==============================] - 37s 1ms/step - loss: 0.0419 - acc: 0.9866 - val_loss: 0.0466 - val_acc: 0.9860\n",
      "Epoch 12/15\n",
      "34020/34020 [==============================] - 37s 1ms/step - loss: 0.0383 - acc: 0.9887 - val_loss: 0.0474 - val_acc: 0.9854\n",
      "Epoch 13/15\n",
      "34020/34020 [==============================] - 37s 1ms/step - loss: 0.0343 - acc: 0.9891 - val_loss: 0.0440 - val_acc: 0.9870\n",
      "Epoch 14/15\n",
      "34020/34020 [==============================] - 37s 1ms/step - loss: 0.0329 - acc: 0.9899 - val_loss: 0.0491 - val_acc: 0.9868\n",
      "Epoch 15/15\n",
      "33984/34020 [============================>.] - ETA: 0s - loss: 0.0347 - acc: 0.9888\n",
      "Epoch 00015: ReduceLROnPlateau reducing learning rate to 0.0004000000189989805.\n",
      "34020/34020 [==============================] - 36s 1ms/step - loss: 0.0347 - acc: 0.9889 - val_loss: 0.0452 - val_acc: 0.9878\n"
     ]
    }
   ],
   "source": [
    "# Training model with lr reduction and Early stopping\n",
    "history =model.fit(X_train,Y_train,batch_size=64, epochs=15, validation_split=0.1,verbose=1,\n",
    "         callbacks=[lr_reduction])"
   ]
  },
  {
   "cell_type": "code",
   "execution_count": 20,
   "metadata": {},
   "outputs": [
    {
     "data": {
      "text/plain": [
       "<matplotlib.axes._subplots.AxesSubplot at 0x175631f24e0>"
      ]
     },
     "execution_count": 20,
     "metadata": {},
     "output_type": "execute_result"
    },
    {
     "data": {
      "image/png": "[encoded data removed]",
      "text/plain": [
       "<matplotlib.figure.Figure at 0x17562ea8080>"
      ]
     },
     "metadata": {},
     "output_type": "display_data"
    }
   ],
   "source": [
    "historydf=pd.DataFrame(history.history, index=history.epoch)\n",
    "historydf.plot()"
   ]
  },
  {
   "cell_type": "code",
   "execution_count": 22,
   "metadata": {},
   "outputs": [
    {
     "name": "stdout",
     "output_type": "stream",
     "text": [
      "Train on 34020 samples, validate on 3780 samples\n",
      "Epoch 1/5\n",
      "34020/34020 [==============================] - 37s 1ms/step - loss: 0.0245 - acc: 0.9923 - val_loss: 0.0412 - val_acc: 0.9892\n",
      "Epoch 2/5\n",
      "34020/34020 [==============================] - 37s 1ms/step - loss: 0.0236 - acc: 0.9929 - val_loss: 0.0414 - val_acc: 0.98893s - loss: 0.0238 - ETA: 0s - loss: 0.0235 - acc: \n",
      "Epoch 3/5\n",
      "34020/34020 [==============================] - 37s 1ms/step - loss: 0.0216 - acc: 0.9933 - val_loss: 0.0385 - val_acc: 0.9894\n",
      "Epoch 4/5\n",
      "34020/34020 [==============================] - 37s 1ms/step - loss: 0.0210 - acc: 0.9934 - val_loss: 0.0449 - val_acc: 0.9899\n",
      "Epoch 5/5\n",
      "33984/34020 [============================>.] - ETA: 0s - loss: 0.0208 - acc: 0.9936\n",
      "Epoch 00005: ReduceLROnPlateau reducing learning rate to 0.00016000000759959222.\n",
      "34020/34020 [==============================] - 37s 1ms/step - loss: 0.0208 - acc: 0.9936 - val_loss: 0.0440 - val_acc: 0.9878\n"
     ]
    }
   ],
   "source": [
    "# Training model with 5 more epochs reduction and Early stopping\n",
    "history =model.fit(X_train,Y_train,batch_size=64, epochs=5, validation_split=0.1,verbose=1,\n",
    "         callbacks=[lr_reduction])"
   ]
  },
  {
   "cell_type": "code",
   "execution_count": 23,
   "metadata": {},
   "outputs": [],
   "source": [
    "## Saving model\n",
    "from keras.models import load_model\n",
    "model.save(\"mnist_5.h5\")\n",
    "#model= load_model(\"mnist_5.h5\")"
   ]
  },
  {
   "cell_type": "code",
   "execution_count": 24,
   "metadata": {
    "collapsed": true
   },
   "outputs": [],
   "source": [
    "# Predict from model on Validation data\n",
    "Y_pred = model.predict(X_val)\n",
    "\n",
    "# argmax for predicted value \n",
    "y_predicted= np.argmax(Y_pred,axis = 1) \n",
    "\n",
    "# argmax for true values\n",
    "y_true = np.argmax(Y_val,axis = 1)"
   ]
  },
  {
   "cell_type": "code",
   "execution_count": 25,
   "metadata": {},
   "outputs": [
    {
     "data": {
      "text/plain": [
       "0.9928571428571429"
      ]
     },
     "execution_count": 25,
     "metadata": {},
     "output_type": "execute_result"
    }
   ],
   "source": [
    "# Validation data Score\n",
    "from sklearn.metrics import accuracy_score\n",
    "accuracy_score(y_true,y_predicted)"
   ]
  },
  {
   "cell_type": "code",
   "execution_count": 27,
   "metadata": {},
   "outputs": [
    {
     "data": {
      "image/png": "[encoded data removed]",
      "text/plain": [
       "<matplotlib.figure.Figure at 0x17562f833c8>"
      ]
     },
     "metadata": {},
     "output_type": "display_data"
    }
   ],
   "source": [
    "# Plot confusion matrix\n",
    "from sklearn.metrics import confusion_matrix\n",
    "import itertools\n",
    "\n",
    "def plot_confusion_matrix(cm, rangee):\n",
    "\n",
    "    plt.imshow(cm, interpolation='nearest', cmap=plt.cm.Blues)\n",
    "    plt.title(\"Confusion Matrix\")\n",
    "    plt.colorbar()\n",
    "    plt.xticks(rangee, rangee, rotation=40)\n",
    "    plt.yticks(rangee, rangee)\n",
    "\n",
    "   \n",
    "    \n",
    "    for i, j in itertools.product(range(cm.shape[0]), range(cm.shape[1])):\n",
    "        plt.text(j, i, cm[i, j],\n",
    "                 horizontalalignment=\"center\")\n",
    "                \n",
    "\n",
    "    plt.tight_layout()\n",
    "    plt.ylabel('True label')\n",
    "    plt.xlabel('Predicted label')\n",
    "\n",
    "\n",
    "# confusion matrix\n",
    "conf_matrix = confusion_matrix(y_true, y_predicted) \n",
    "#print(conf_matrix)\n",
    "\n",
    "# plot the confusion matrix\n",
    "plot_confusion_matrix(conf_matrix, rangee = range(10)) "
   ]
  },
  {
   "cell_type": "code",
   "execution_count": 34,
   "metadata": {},
   "outputs": [
    {
     "name": "stdout",
     "output_type": "stream",
     "text": [
      "Wrong preicted Y true values [9 8 8 8 3 6 9 6 0 5 5 1 5 3 2 2 7 9 2 3 9 8 5 9 7 9 6 9 3 8]\n"
     ]
    }
   ],
   "source": [
    "# Finding wrong predicted images\n",
    "error = y_true - y_predicted !=0\n",
    "\n",
    "Y_true_err = y_true[error]\n",
    "Y_pred_err = y_predicted[error]\n",
    "X_val_err =  X_val[error]\n",
    "print(\"Wrong preicted Y true values\",Y_true_err)"
   ]
  },
  {
   "cell_type": "markdown",
   "metadata": {},
   "source": [
    "## Try different values of num, for Wrong Predicted images"
   ]
  },
  {
   "cell_type": "code",
   "execution_count": 35,
   "metadata": {},
   "outputs": [
    {
     "data": {
      "image/png": "[encoded data removed]",
      "text/plain": [
       "<matplotlib.figure.Figure at 0x17563119518>"
      ]
     },
     "metadata": {},
     "output_type": "display_data"
    },
    {
     "name": "stdout",
     "output_type": "stream",
     "text": [
      "True Value:  9\n",
      "Predicted Value:  0\n"
     ]
    }
   ],
   "source": [
    "# 0 for first wrong predicted image\n",
    "num = 0\n",
    "\n",
    "plt.imshow(X_val_err[num][:,:,0],cmap=\"gray\")\n",
    "plt.show()\n",
    "print(\"True Value: \",Y_true_err[num] )\n",
    "print(\"Predicted Value: \",Y_pred_err[num])"
   ]
  },
  {
   "cell_type": "code",
   "execution_count": 32,
   "metadata": {},
   "outputs": [
    {
     "name": "stdout",
     "output_type": "stream",
     "text": [
      "Train on 3780 samples, validate on 420 samples\n",
      "Epoch 1/2\n",
      "3780/3780 [==============================] - 5s 1ms/step - loss: 0.0267 - acc: 0.9926 - val_loss: 0.0109 - val_acc: 0.9952\n",
      "Epoch 2/2\n",
      "3780/3780 [==============================] - 5s 1ms/step - loss: 0.0333 - acc: 0.9907 - val_loss: 0.0109 - val_acc: 0.9952\n"
     ]
    }
   ],
   "source": [
    "# Retraining model on Validation data \n",
    "\n",
    "history2 =model.fit(X_val,Y_val,batch_size=32, epochs=2, validation_split=0.1,verbose=1,\n",
    "         callbacks=[lr_reduction,EarlyStopping(monitor='loss', patience=2)])"
   ]
  },
  {
   "cell_type": "code",
   "execution_count": 33,
   "metadata": {},
   "outputs": [
    {
     "data": {
      "text/plain": [
       "0.9963756613756614"
      ]
     },
     "execution_count": 33,
     "metadata": {},
     "output_type": "execute_result"
    }
   ],
   "source": [
    "# Again, Checking Accuracy score on Validation data\n",
    "\n",
    "y_pred2=model.predict(X_train)\n",
    "y_predd2=np.argmax(y_pred2,axis=1)\n",
    "y_truee2 = np.argmax(Y_train,axis=1)\n",
    "\n",
    "accuracy_score(y_truee2,y_predd2)"
   ]
  },
  {
   "cell_type": "code",
   "execution_count": 36,
   "metadata": {},
   "outputs": [],
   "source": [
    "# Importing test.csv\n",
    "df_tst = pd.read_csv(\"./test.csv\")\n",
    "\n",
    "# Reshaping test data\n",
    "df_tst=df_tst.values.reshape(-1,28,28,1)\n",
    "\n",
    "# Predicting with model\n",
    "df_tst_result=model.predict(df_tst)\n",
    "y_result=np.argmax(df_tst_result,axis=1)"
   ]
  },
  {
   "cell_type": "code",
   "execution_count": 37,
   "metadata": {},
   "outputs": [],
   "source": [
    "range_n=np.arange(1,len(y_result) + 1 )\n",
    "\n",
    "final_results=pd.concat([pd.DataFrame(range_n) , pd.DataFrame(y_result)],axis=1)\n",
    "final_results.columns=([\"ImageId\",\"Label\"])\n",
    "\n",
    "final_results.to_csv(\"result.csv\")\n",
    "# Upload \"result.csv\""
   ]
  }
 ],
 "metadata": {
  "kernelspec": {
   "display_name": "Python 3",
   "language": "python",
   "name": "python3"
  },
  "language_info": {
   "codemirror_mode": {
    "name": "ipython",
    "version": 3
   },
   "file_extension": ".py",
   "mimetype": "text/x-python",
   "name": "python",
   "nbconvert_exporter": "python",
   "pygments_lexer": "ipython3",
   "version": "3.7.2"
  }
 },
 "nbformat": 4,
 "nbformat_minor": 2
}
